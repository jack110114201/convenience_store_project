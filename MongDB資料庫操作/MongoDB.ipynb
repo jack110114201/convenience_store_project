{
  "nbformat": 4,
  "nbformat_minor": 0,
  "metadata": {
    "colab": {
      "name": "Untitled1.ipynb",
      "provenance": [],
      "collapsed_sections": []
    },
    "kernelspec": {
      "name": "python3",
      "display_name": "Python 3"
    },
    "language_info": {
      "name": "python"
    }
  },
  "cells": [
    {
      "cell_type": "markdown",
      "metadata": {
        "id": "d37TZ0hQwrh_"
      },
      "source": [
        "\n",
        "\n",
        "# > **安裝套件**\n"
      ]
    },
    {
      "cell_type": "code",
      "metadata": {
        "colab": {
          "base_uri": "https://localhost:8080/"
        },
        "id": "ztoZtJxUwU55",
        "outputId": "d613440c-0612-483b-f19b-ed855a17027a"
      },
      "source": [
        "!pip install pymongo\n",
        "!pip install sshtunnel"
      ],
      "execution_count": 3,
      "outputs": [
        {
          "output_type": "stream",
          "text": [
            "Requirement already satisfied: pymongo in /usr/local/lib/python3.7/dist-packages (3.11.4)\n",
            "Collecting sshtunnel\n",
            "  Downloading https://files.pythonhosted.org/packages/58/13/8476c4328dcadfe26f8bd7f3a1a03bf9ddb890a7e7b692f54a179bc525bf/sshtunnel-0.4.0-py2.py3-none-any.whl\n",
            "Collecting paramiko>=2.7.2\n",
            "\u001b[?25l  Downloading https://files.pythonhosted.org/packages/95/19/124e9287b43e6ff3ebb9cdea3e5e8e88475a873c05ccdf8b7e20d2c4201e/paramiko-2.7.2-py2.py3-none-any.whl (206kB)\n",
            "\u001b[K     |████████████████████████████████| 215kB 11.3MB/s \n",
            "\u001b[?25hCollecting cryptography>=2.5\n",
            "\u001b[?25l  Downloading https://files.pythonhosted.org/packages/b2/26/7af637e6a7e87258b963f1731c5982fb31cd507f0d90d91836e446955d02/cryptography-3.4.7-cp36-abi3-manylinux2014_x86_64.whl (3.2MB)\n",
            "\u001b[K     |████████████████████████████████| 3.2MB 47.6MB/s \n",
            "\u001b[?25hCollecting bcrypt>=3.1.3\n",
            "\u001b[?25l  Downloading https://files.pythonhosted.org/packages/26/70/6d218afbe4c73538053c1016dd631e8f25fffc10cd01f5c272d7acf3c03d/bcrypt-3.2.0-cp36-abi3-manylinux2010_x86_64.whl (63kB)\n",
            "\u001b[K     |████████████████████████████████| 71kB 10.1MB/s \n",
            "\u001b[?25hCollecting pynacl>=1.0.1\n",
            "\u001b[?25l  Downloading https://files.pythonhosted.org/packages/9d/57/2f5e6226a674b2bcb6db531e8b383079b678df5b10cdaa610d6cf20d77ba/PyNaCl-1.4.0-cp35-abi3-manylinux1_x86_64.whl (961kB)\n",
            "\u001b[K     |████████████████████████████████| 962kB 31.4MB/s \n",
            "\u001b[?25hRequirement already satisfied: cffi>=1.12 in /usr/local/lib/python3.7/dist-packages (from cryptography>=2.5->paramiko>=2.7.2->sshtunnel) (1.14.6)\n",
            "Requirement already satisfied: six>=1.4.1 in /usr/local/lib/python3.7/dist-packages (from bcrypt>=3.1.3->paramiko>=2.7.2->sshtunnel) (1.15.0)\n",
            "Requirement already satisfied: pycparser in /usr/local/lib/python3.7/dist-packages (from cffi>=1.12->cryptography>=2.5->paramiko>=2.7.2->sshtunnel) (2.20)\n",
            "Installing collected packages: cryptography, bcrypt, pynacl, paramiko, sshtunnel\n",
            "Successfully installed bcrypt-3.2.0 cryptography-3.4.7 paramiko-2.7.2 pynacl-1.4.0 sshtunnel-0.4.0\n"
          ],
          "name": "stdout"
        }
      ]
    },
    {
      "cell_type": "markdown",
      "metadata": {
        "id": "FUa2fkR_xKv7"
      },
      "source": [
        "# **建立MongoDB連線**"
      ]
    },
    {
      "cell_type": "code",
      "metadata": {
        "colab": {
          "base_uri": "https://localhost:8080/"
        },
        "id": "O10xIaPLukov",
        "outputId": "f789b0a6-9bb7-40c4-d7fd-b77e28a01659"
      },
      "source": [
        "import csv\n",
        "from pymongo import MongoClient\n",
        "import atexit\n",
        "from sshtunnel import SSHTunnelForwarder\n",
        "\n",
        "server = SSHTunnelForwarder(('3.113.29.214', 22),\n",
        "    ssh_password='koxhAS?ZRayMorAddS6*HzZMZ3LFh*wK',\n",
        "    ssh_username='Administrator',\n",
        "    remote_bind_address=('127.0.0.1', 27017))\n",
        "server.start()\n",
        "\n",
        "def shutdown():\n",
        "    server.stop()\n",
        "\n",
        "atexit.register(shutdown)\n",
        "\n",
        "client = MongoClient('127.0.0.1', server.local_bind_port)\n",
        "\n",
        "db = client.test #選擇操作的DataBase\n",
        "print(db)\n",
        "collection = db.testdata #選擇操作的Collection\n"
      ],
      "execution_count": 4,
      "outputs": [
        {
          "output_type": "stream",
          "text": [
            "Database(MongoClient(host=['127.0.0.1:46647'], document_class=dict, tz_aware=False, connect=True), 'test')\n"
          ],
          "name": "stdout"
        }
      ]
    },
    {
      "cell_type": "markdown",
      "metadata": {
        "id": "nd49lM5Xur11"
      },
      "source": [
        "# **寫入MongoDB資料**"
      ]
    },
    {
      "cell_type": "code",
      "metadata": {
        "id": "txQWFw5qu-wN"
      },
      "source": [
        "with open('textdata.csv', newline='', encoding='utf-8-sig') as csvfile:\n",
        "    rows = csv.DictReader(csvfile)\n",
        "    for row in rows:\n",
        "        collection.insert_one(\n",
        "            row\n",
        "        )\n",
        "        print(row)\n",
        "print(\"資料寫入完成\")"
      ],
      "execution_count": null,
      "outputs": []
    },
    {
      "cell_type": "markdown",
      "metadata": {
        "id": "i08Z9kTPvVLP"
      },
      "source": [
        "# **讀取MongoDB資料**"
      ]
    },
    {
      "cell_type": "code",
      "metadata": {
        "id": "yyaLW7kWvd-G"
      },
      "source": [
        "DataList=[]\n",
        "for i in collection.find():\n",
        "    DataList.append(i)\n",
        "print(DataList)"
      ],
      "execution_count": null,
      "outputs": []
    },
    {
      "cell_type": "markdown",
      "metadata": {
        "id": "t5hgqfquvuIU"
      },
      "source": [
        "# **將資料寫入csv檔**"
      ]
    },
    {
      "cell_type": "code",
      "metadata": {
        "id": "HmYoshWpv3ET"
      },
      "source": [
        "con=1\n",
        "for i in collection.find(): \n",
        "    with open(\"datatest1.csv\", 'a', newline='',encoding='utf-8-sig') as csvfile:\n",
        "        columns_name = [\"商品名稱\",\"價格\",\"商品說明\",\"商品圖片\",\"商品連結\"]                  \n",
        "        writer = csv.DictWriter(csvfile,fieldnames=columns_name)\n",
        "        if con == 1:\n",
        "            writer.writeheader()\n",
        "            writer.writerow({\"商品名稱\":i['商品名稱'],\"價格\":i['價格'],\"商品說明\": i['商品說明'],\"商品連結\":i['商品連結'],\"商品圖片\":i['商品圖片'],\"商品連結\":i['商品連結']})\n",
        "        else:\n",
        "            writer.writerow({\"商品名稱\":i['商品名稱'],\"價格\":i['價格'],\"商品說明\": i['商品說明'],\"商品連結\":i['商品連結'],\"商品圖片\":i['商品圖片'],\"商品連結\":i['商品連結']})\n",
        "        con+=1\n",
        "print(\"已寫入{}筆資料\".format(con))"
      ],
      "execution_count": null,
      "outputs": []
    }
  ]
}