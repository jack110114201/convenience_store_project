{
 "cells": [
  {
   "cell_type": "code",
   "execution_count": 1,
   "id": "3d5a463e",
   "metadata": {},
   "outputs": [],
   "source": [
    "import pandas as pd\n",
    "import matplotlib.pyplot as plt\n",
    "import seaborn as sns\n",
    "import numpy as np"
   ]
  },
  {
   "cell_type": "code",
   "execution_count": 3,
   "id": "4b5c04c2",
   "metadata": {},
   "outputs": [],
   "source": [
    "df = pd.read_csv('hh_demographic_version1.csv')"
   ]
  },
  {
   "cell_type": "code",
   "execution_count": 4,
   "id": "b3de471c",
   "metadata": {},
   "outputs": [
    {
     "name": "stdout",
     "output_type": "stream",
     "text": [
      "<class 'pandas.core.frame.DataFrame'>\n",
      "RangeIndex: 801 entries, 0 to 800\n",
      "Data columns (total 7 columns):\n",
      " #   Column               Non-Null Count  Dtype \n",
      "---  ------               --------------  ----- \n",
      " 0   AGE_DESC             801 non-null    object\n",
      " 1   MARITAL_STATUS_CODE  801 non-null    object\n",
      " 2   INCOME_DESC          801 non-null    object\n",
      " 3   HOMEOWNER_DESC       801 non-null    object\n",
      " 4   HH_COMP_DESC         801 non-null    object\n",
      " 5   HOUSEHOLD_SIZE_DESC  801 non-null    object\n",
      " 6   household_key        801 non-null    int64 \n",
      "dtypes: int64(1), object(6)\n",
      "memory usage: 43.9+ KB\n"
     ]
    }
   ],
   "source": [
    "df.info()"
   ]
  },
  {
   "cell_type": "code",
   "execution_count": 5,
   "id": "b501388e",
   "metadata": {},
   "outputs": [
    {
     "data": {
      "text/html": [
       "<div>\n",
       "<style scoped>\n",
       "    .dataframe tbody tr th:only-of-type {\n",
       "        vertical-align: middle;\n",
       "    }\n",
       "\n",
       "    .dataframe tbody tr th {\n",
       "        vertical-align: top;\n",
       "    }\n",
       "\n",
       "    .dataframe thead th {\n",
       "        text-align: right;\n",
       "    }\n",
       "</style>\n",
       "<table border=\"1\" class=\"dataframe\">\n",
       "  <thead>\n",
       "    <tr style=\"text-align: right;\">\n",
       "      <th></th>\n",
       "      <th>AGE_DESC</th>\n",
       "      <th>MARITAL_STATUS_CODE</th>\n",
       "      <th>INCOME_DESC</th>\n",
       "      <th>HOMEOWNER_DESC</th>\n",
       "      <th>HH_COMP_DESC</th>\n",
       "      <th>HOUSEHOLD_SIZE_DESC</th>\n",
       "      <th>household_key</th>\n",
       "    </tr>\n",
       "  </thead>\n",
       "  <tbody>\n",
       "    <tr>\n",
       "      <th>0</th>\n",
       "      <td>65+</td>\n",
       "      <td>Married</td>\n",
       "      <td>35-49K</td>\n",
       "      <td>Homeowner</td>\n",
       "      <td>2 Adults No Kids</td>\n",
       "      <td>2</td>\n",
       "      <td>1</td>\n",
       "    </tr>\n",
       "    <tr>\n",
       "      <th>1</th>\n",
       "      <td>45-54</td>\n",
       "      <td>Married</td>\n",
       "      <td>50-74K</td>\n",
       "      <td>Homeowner</td>\n",
       "      <td>2 Adults No Kids</td>\n",
       "      <td>2</td>\n",
       "      <td>7</td>\n",
       "    </tr>\n",
       "    <tr>\n",
       "      <th>2</th>\n",
       "      <td>25-34</td>\n",
       "      <td>Single</td>\n",
       "      <td>25-34K</td>\n",
       "      <td>Unknown</td>\n",
       "      <td>2 Adults Kids</td>\n",
       "      <td>3</td>\n",
       "      <td>8</td>\n",
       "    </tr>\n",
       "    <tr>\n",
       "      <th>3</th>\n",
       "      <td>25-34</td>\n",
       "      <td>Single</td>\n",
       "      <td>75-99K</td>\n",
       "      <td>Homeowner</td>\n",
       "      <td>2 Adults Kids</td>\n",
       "      <td>4</td>\n",
       "      <td>13</td>\n",
       "    </tr>\n",
       "    <tr>\n",
       "      <th>4</th>\n",
       "      <td>45-54</td>\n",
       "      <td>Unknown</td>\n",
       "      <td>50-74K</td>\n",
       "      <td>Homeowner</td>\n",
       "      <td>Single Female</td>\n",
       "      <td>1</td>\n",
       "      <td>16</td>\n",
       "    </tr>\n",
       "  </tbody>\n",
       "</table>\n",
       "</div>"
      ],
      "text/plain": [
       "  AGE_DESC MARITAL_STATUS_CODE INCOME_DESC HOMEOWNER_DESC      HH_COMP_DESC  \\\n",
       "0      65+             Married      35-49K      Homeowner  2 Adults No Kids   \n",
       "1    45-54             Married      50-74K      Homeowner  2 Adults No Kids   \n",
       "2    25-34              Single      25-34K        Unknown     2 Adults Kids   \n",
       "3    25-34              Single      75-99K      Homeowner     2 Adults Kids   \n",
       "4    45-54             Unknown      50-74K      Homeowner     Single Female   \n",
       "\n",
       "  HOUSEHOLD_SIZE_DESC  household_key  \n",
       "0                   2              1  \n",
       "1                   2              7  \n",
       "2                   3              8  \n",
       "3                   4             13  \n",
       "4                   1             16  "
      ]
     },
     "execution_count": 5,
     "metadata": {},
     "output_type": "execute_result"
    }
   ],
   "source": [
    "df.head()"
   ]
  },
  {
   "cell_type": "markdown",
   "id": "a3f792d3",
   "metadata": {},
   "source": [
    "### \"MARITAL_STATUS_CODE\" 欄位資料轉換"
   ]
  },
  {
   "cell_type": "code",
   "execution_count": 4,
   "id": "14454f73",
   "metadata": {},
   "outputs": [],
   "source": [
    "df[\"MARITAL_STATUS_CODE\"].replace(['A', 'B', 'U'],['Married','Unknown','Single'],inplace=True)"
   ]
  },
  {
   "cell_type": "markdown",
   "id": "9a27cf45",
   "metadata": {},
   "source": [
    "### 檢視資料"
   ]
  },
  {
   "cell_type": "code",
   "execution_count": 5,
   "id": "2f07c2a2",
   "metadata": {},
   "outputs": [
    {
     "name": "stdout",
     "output_type": "stream",
     "text": [
      "45-54    288\n",
      "35-44    194\n",
      "25-34    142\n",
      "65+       72\n",
      "55-64     59\n",
      "19-24     46\n",
      "Name: AGE_DESC, dtype: int64\n",
      "\n",
      "Single     344\n",
      "Married    340\n",
      "Unknown    117\n",
      "Name: MARITAL_STATUS_CODE, dtype: int64\n",
      "\n",
      "50-74K       192\n",
      "35-49K       172\n",
      "75-99K        96\n",
      "25-34K        77\n",
      "15-24K        74\n",
      "Under 15K     61\n",
      "125-149K      38\n",
      "100-124K      34\n",
      "150-174K      30\n",
      "250K+         11\n",
      "175-199K      11\n",
      "200-249K       5\n",
      "Name: INCOME_DESC, dtype: int64\n",
      "\n",
      "Homeowner          504\n",
      "Unknown            233\n",
      "Renter              42\n",
      "Probable Owner      11\n",
      "Probable Renter     11\n",
      "Name: HOMEOWNER_DESC, dtype: int64\n",
      "\n",
      "2     318\n",
      "1     255\n",
      "3     109\n",
      "5+     66\n",
      "4      53\n",
      "Name: HOUSEHOLD_SIZE_DESC, dtype: int64\n",
      "\n",
      "None/Unknown    558\n",
      "1               114\n",
      "3+               69\n",
      "2                60\n",
      "Name: KID_CATEGORY_DESC, dtype: int64\n",
      "\n"
     ]
    },
    {
     "data": {
      "image/png": "[encoded data removed]",
      "text/plain": [
       "<Figure size 576x576 with 1 Axes>"
      ]
     },
     "metadata": {
      "needs_background": "light"
     },
     "output_type": "display_data"
    },
    {
     "data": {
      "image/png": "[encoded data removed]",
      "text/plain": [
       "<Figure size 576x576 with 1 Axes>"
      ]
     },
     "metadata": {
      "needs_background": "light"
     },
     "output_type": "display_data"
    },
    {
     "data": {
      "image/png": "[encoded data removed]",
      "text/plain": [
       "<Figure size 576x576 with 1 Axes>"
      ]
     },
     "metadata": {
      "needs_background": "light"
     },
     "output_type": "display_data"
    },
    {
     "data": {
      "image/png": "[encoded data removed]",
      "text/plain": [
       "<Figure size 576x576 with 1 Axes>"
      ]
     },
     "metadata": {
      "needs_background": "light"
     },
     "output_type": "display_data"
    },
    {
     "data": {
      "image/png": "[encoded data removed]",
      "text/plain": [
       "<Figure size 576x576 with 1 Axes>"
      ]
     },
     "metadata": {
      "needs_background": "light"
     },
     "output_type": "display_data"
    },
    {
     "data": {
      "image/png": "[encoded data removed]",
      "text/plain": [
       "<Figure size 576x576 with 1 Axes>"
      ]
     },
     "metadata": {
      "needs_background": "light"
     },
     "output_type": "display_data"
    }
   ],
   "source": [
    "for i in ['AGE_DESC','MARITAL_STATUS_CODE','INCOME_DESC','HOMEOWNER_DESC','HOUSEHOLD_SIZE_DESC','KID_CATEGORY_DESC']:\n",
    "    a = df[i].value_counts()\n",
    "    print(a)\n",
    "    print()\n",
    "    plt.figure(figsize=(8,8))\n",
    "    sns.barplot(x = a.index,y = a)\n",
    "    plt.xticks(rotation= 45)\n",
    "plt.show()"
   ]
  },
  {
   "cell_type": "markdown",
   "id": "9962c221",
   "metadata": {},
   "source": [
    "### 依照圖片顯示\n",
    "- KID_CATEGORY_DESC 的None/Unknown值太多，所以捨棄該欄位\n",
    "- HOMEOWNER_DESC 主要為Homeowner，Unknown次之，分布不平均，所以也捨棄 (保留)\n",
    "- INCOME_DESC 的資料或許可以再縮小區間，減少變數\n",
    " - Under 15K\n",
    " - 15-24K\n",
    " - 25-34K\n",
    " - 35-49K\n",
    " - 50-74K\n",
    " - 75-99K\n",
    " - 100k+ (125-149K,100-124K,150-174K,250K+,175-199K,200-249K) 一組 (保留)"
   ]
  },
  {
   "cell_type": "code",
   "execution_count": 5,
   "id": "1e764b32",
   "metadata": {},
   "outputs": [],
   "source": [
    "df = df.drop([\"KID_CATEGORY_DESC\"],axis=1)"
   ]
  },
  {
   "cell_type": "markdown",
   "id": "1ab19c05",
   "metadata": {},
   "source": [
    "### 區分的方式"
   ]
  },
  {
   "cell_type": "code",
   "execution_count": 6,
   "id": "6f99c2b5",
   "metadata": {},
   "outputs": [],
   "source": [
    "df['INCOME_DESC_new'] = np.select(\n",
    "    [\n",
    "        df['INCOME_DESC'] == 'Under 15K', \n",
    "        df['INCOME_DESC'] == '15-24K',\n",
    "        df['INCOME_DESC'] == '25-34K',\n",
    "        df['INCOME_DESC'] == '35-49K',\n",
    "        df['INCOME_DESC'] == '50-74K',\n",
    "        df['INCOME_DESC'] == '75-99K',\n",
    "        df['INCOME_DESC'] == '100-124K',\n",
    "        df['INCOME_DESC'] == '125-149K',\n",
    "        df['INCOME_DESC'] == '150-174K',\n",
    "        df['INCOME_DESC'] == '175-199K',\n",
    "        df['INCOME_DESC'] == '200-249K',\n",
    "        df['INCOME_DESC'] == '250K+',\n",
    "        \n",
    "        \n",
    "    ], \n",
    "    [\n",
    "        'Under 15K', \n",
    "        '15-24K',\n",
    "        '25-34K',\n",
    "        '35-49K',\n",
    "        '50-74K',\n",
    "        '75-99K',\n",
    "        '100k+',\n",
    "        '100k+',\n",
    "        '100k+',\n",
    "        '100k+',\n",
    "        '100k+',\n",
    "        '100k+'\n",
    "        \n",
    "        \n",
    "    ], \n",
    "    default='Uknown'\n",
    ")"
   ]
  },
  {
   "cell_type": "code",
   "execution_count": 7,
   "id": "d1176079",
   "metadata": {},
   "outputs": [
    {
     "data": {
      "text/html": [
       "<div>\n",
       "<style scoped>\n",
       "    .dataframe tbody tr th:only-of-type {\n",
       "        vertical-align: middle;\n",
       "    }\n",
       "\n",
       "    .dataframe tbody tr th {\n",
       "        vertical-align: top;\n",
       "    }\n",
       "\n",
       "    .dataframe thead th {\n",
       "        text-align: right;\n",
       "    }\n",
       "</style>\n",
       "<table border=\"1\" class=\"dataframe\">\n",
       "  <thead>\n",
       "    <tr style=\"text-align: right;\">\n",
       "      <th></th>\n",
       "      <th>AGE_DESC</th>\n",
       "      <th>MARITAL_STATUS_CODE</th>\n",
       "      <th>INCOME_DESC</th>\n",
       "      <th>HH_COMP_DESC</th>\n",
       "      <th>HOUSEHOLD_SIZE_DESC</th>\n",
       "      <th>household_key</th>\n",
       "      <th>INCOME_DESC_new</th>\n",
       "    </tr>\n",
       "  </thead>\n",
       "  <tbody>\n",
       "    <tr>\n",
       "      <th>0</th>\n",
       "      <td>65+</td>\n",
       "      <td>Married</td>\n",
       "      <td>35-49K</td>\n",
       "      <td>2 Adults No Kids</td>\n",
       "      <td>2</td>\n",
       "      <td>1</td>\n",
       "      <td>35-49K</td>\n",
       "    </tr>\n",
       "    <tr>\n",
       "      <th>1</th>\n",
       "      <td>45-54</td>\n",
       "      <td>Married</td>\n",
       "      <td>50-74K</td>\n",
       "      <td>2 Adults No Kids</td>\n",
       "      <td>2</td>\n",
       "      <td>7</td>\n",
       "      <td>50-74K</td>\n",
       "    </tr>\n",
       "    <tr>\n",
       "      <th>2</th>\n",
       "      <td>25-34</td>\n",
       "      <td>Single</td>\n",
       "      <td>25-34K</td>\n",
       "      <td>2 Adults Kids</td>\n",
       "      <td>3</td>\n",
       "      <td>8</td>\n",
       "      <td>25-34K</td>\n",
       "    </tr>\n",
       "    <tr>\n",
       "      <th>3</th>\n",
       "      <td>25-34</td>\n",
       "      <td>Single</td>\n",
       "      <td>75-99K</td>\n",
       "      <td>2 Adults Kids</td>\n",
       "      <td>4</td>\n",
       "      <td>13</td>\n",
       "      <td>75-99K</td>\n",
       "    </tr>\n",
       "    <tr>\n",
       "      <th>4</th>\n",
       "      <td>45-54</td>\n",
       "      <td>Unknown</td>\n",
       "      <td>50-74K</td>\n",
       "      <td>Single Female</td>\n",
       "      <td>1</td>\n",
       "      <td>16</td>\n",
       "      <td>50-74K</td>\n",
       "    </tr>\n",
       "    <tr>\n",
       "      <th>...</th>\n",
       "      <td>...</td>\n",
       "      <td>...</td>\n",
       "      <td>...</td>\n",
       "      <td>...</td>\n",
       "      <td>...</td>\n",
       "      <td>...</td>\n",
       "      <td>...</td>\n",
       "    </tr>\n",
       "    <tr>\n",
       "      <th>796</th>\n",
       "      <td>35-44</td>\n",
       "      <td>Single</td>\n",
       "      <td>50-74K</td>\n",
       "      <td>2 Adults No Kids</td>\n",
       "      <td>2</td>\n",
       "      <td>2494</td>\n",
       "      <td>50-74K</td>\n",
       "    </tr>\n",
       "    <tr>\n",
       "      <th>797</th>\n",
       "      <td>45-54</td>\n",
       "      <td>Married</td>\n",
       "      <td>75-99K</td>\n",
       "      <td>Unknown</td>\n",
       "      <td>3</td>\n",
       "      <td>2496</td>\n",
       "      <td>75-99K</td>\n",
       "    </tr>\n",
       "    <tr>\n",
       "      <th>798</th>\n",
       "      <td>45-54</td>\n",
       "      <td>Single</td>\n",
       "      <td>35-49K</td>\n",
       "      <td>Single Male</td>\n",
       "      <td>1</td>\n",
       "      <td>2497</td>\n",
       "      <td>35-49K</td>\n",
       "    </tr>\n",
       "    <tr>\n",
       "      <th>799</th>\n",
       "      <td>25-34</td>\n",
       "      <td>Single</td>\n",
       "      <td>50-74K</td>\n",
       "      <td>2 Adults No Kids</td>\n",
       "      <td>2</td>\n",
       "      <td>2498</td>\n",
       "      <td>50-74K</td>\n",
       "    </tr>\n",
       "    <tr>\n",
       "      <th>800</th>\n",
       "      <td>25-34</td>\n",
       "      <td>Single</td>\n",
       "      <td>Under 15K</td>\n",
       "      <td>2 Adults Kids</td>\n",
       "      <td>3</td>\n",
       "      <td>2499</td>\n",
       "      <td>Under 15K</td>\n",
       "    </tr>\n",
       "  </tbody>\n",
       "</table>\n",
       "<p>801 rows × 7 columns</p>\n",
       "</div>"
      ],
      "text/plain": [
       "    AGE_DESC MARITAL_STATUS_CODE INCOME_DESC      HH_COMP_DESC  \\\n",
       "0        65+             Married      35-49K  2 Adults No Kids   \n",
       "1      45-54             Married      50-74K  2 Adults No Kids   \n",
       "2      25-34              Single      25-34K     2 Adults Kids   \n",
       "3      25-34              Single      75-99K     2 Adults Kids   \n",
       "4      45-54             Unknown      50-74K     Single Female   \n",
       "..       ...                 ...         ...               ...   \n",
       "796    35-44              Single      50-74K  2 Adults No Kids   \n",
       "797    45-54             Married      75-99K           Unknown   \n",
       "798    45-54              Single      35-49K       Single Male   \n",
       "799    25-34              Single      50-74K  2 Adults No Kids   \n",
       "800    25-34              Single   Under 15K     2 Adults Kids   \n",
       "\n",
       "    HOUSEHOLD_SIZE_DESC  household_key INCOME_DESC_new  \n",
       "0                     2              1          35-49K  \n",
       "1                     2              7          50-74K  \n",
       "2                     3              8          25-34K  \n",
       "3                     4             13          75-99K  \n",
       "4                     1             16          50-74K  \n",
       "..                  ...            ...             ...  \n",
       "796                   2           2494          50-74K  \n",
       "797                   3           2496          75-99K  \n",
       "798                   1           2497          35-49K  \n",
       "799                   2           2498          50-74K  \n",
       "800                   3           2499       Under 15K  \n",
       "\n",
       "[801 rows x 7 columns]"
      ]
     },
     "execution_count": 7,
     "metadata": {},
     "output_type": "execute_result"
    }
   ],
   "source": [
    "df"
   ]
  },
  {
   "cell_type": "code",
   "execution_count": 8,
   "id": "26887d85",
   "metadata": {},
   "outputs": [],
   "source": [
    "df = df.drop('INCOME_DESC',axis=1)"
   ]
  },
  {
   "cell_type": "code",
   "execution_count": 9,
   "id": "2b86dbc9",
   "metadata": {},
   "outputs": [],
   "source": [
    "df = df.drop('HH_COMP_DESC',axis=1)"
   ]
  },
  {
   "cell_type": "code",
   "execution_count": 11,
   "id": "e44935fd",
   "metadata": {},
   "outputs": [],
   "source": [
    "df = df[[\"AGE_DESC\", \"INCOME_DESC_new\", \"MARITAL_STATUS_CODE\",\"HOUSEHOLD_SIZE_DESC\",\"household_key\"]]"
   ]
  },
  {
   "cell_type": "code",
   "execution_count": 12,
   "id": "d756b033",
   "metadata": {},
   "outputs": [
    {
     "data": {
      "text/html": [
       "<div>\n",
       "<style scoped>\n",
       "    .dataframe tbody tr th:only-of-type {\n",
       "        vertical-align: middle;\n",
       "    }\n",
       "\n",
       "    .dataframe tbody tr th {\n",
       "        vertical-align: top;\n",
       "    }\n",
       "\n",
       "    .dataframe thead th {\n",
       "        text-align: right;\n",
       "    }\n",
       "</style>\n",
       "<table border=\"1\" class=\"dataframe\">\n",
       "  <thead>\n",
       "    <tr style=\"text-align: right;\">\n",
       "      <th></th>\n",
       "      <th>AGE_DESC</th>\n",
       "      <th>INCOME_DESC_new</th>\n",
       "      <th>MARITAL_STATUS_CODE</th>\n",
       "      <th>HOUSEHOLD_SIZE_DESC</th>\n",
       "      <th>household_key</th>\n",
       "    </tr>\n",
       "  </thead>\n",
       "  <tbody>\n",
       "    <tr>\n",
       "      <th>0</th>\n",
       "      <td>65+</td>\n",
       "      <td>35-49K</td>\n",
       "      <td>Married</td>\n",
       "      <td>2</td>\n",
       "      <td>1</td>\n",
       "    </tr>\n",
       "    <tr>\n",
       "      <th>1</th>\n",
       "      <td>45-54</td>\n",
       "      <td>50-74K</td>\n",
       "      <td>Married</td>\n",
       "      <td>2</td>\n",
       "      <td>7</td>\n",
       "    </tr>\n",
       "    <tr>\n",
       "      <th>2</th>\n",
       "      <td>25-34</td>\n",
       "      <td>25-34K</td>\n",
       "      <td>Single</td>\n",
       "      <td>3</td>\n",
       "      <td>8</td>\n",
       "    </tr>\n",
       "    <tr>\n",
       "      <th>3</th>\n",
       "      <td>25-34</td>\n",
       "      <td>75-99K</td>\n",
       "      <td>Single</td>\n",
       "      <td>4</td>\n",
       "      <td>13</td>\n",
       "    </tr>\n",
       "    <tr>\n",
       "      <th>4</th>\n",
       "      <td>45-54</td>\n",
       "      <td>50-74K</td>\n",
       "      <td>Unknown</td>\n",
       "      <td>1</td>\n",
       "      <td>16</td>\n",
       "    </tr>\n",
       "    <tr>\n",
       "      <th>...</th>\n",
       "      <td>...</td>\n",
       "      <td>...</td>\n",
       "      <td>...</td>\n",
       "      <td>...</td>\n",
       "      <td>...</td>\n",
       "    </tr>\n",
       "    <tr>\n",
       "      <th>796</th>\n",
       "      <td>35-44</td>\n",
       "      <td>50-74K</td>\n",
       "      <td>Single</td>\n",
       "      <td>2</td>\n",
       "      <td>2494</td>\n",
       "    </tr>\n",
       "    <tr>\n",
       "      <th>797</th>\n",
       "      <td>45-54</td>\n",
       "      <td>75-99K</td>\n",
       "      <td>Married</td>\n",
       "      <td>3</td>\n",
       "      <td>2496</td>\n",
       "    </tr>\n",
       "    <tr>\n",
       "      <th>798</th>\n",
       "      <td>45-54</td>\n",
       "      <td>35-49K</td>\n",
       "      <td>Single</td>\n",
       "      <td>1</td>\n",
       "      <td>2497</td>\n",
       "    </tr>\n",
       "    <tr>\n",
       "      <th>799</th>\n",
       "      <td>25-34</td>\n",
       "      <td>50-74K</td>\n",
       "      <td>Single</td>\n",
       "      <td>2</td>\n",
       "      <td>2498</td>\n",
       "    </tr>\n",
       "    <tr>\n",
       "      <th>800</th>\n",
       "      <td>25-34</td>\n",
       "      <td>Under 15K</td>\n",
       "      <td>Single</td>\n",
       "      <td>3</td>\n",
       "      <td>2499</td>\n",
       "    </tr>\n",
       "  </tbody>\n",
       "</table>\n",
       "<p>801 rows × 5 columns</p>\n",
       "</div>"
      ],
      "text/plain": [
       "    AGE_DESC INCOME_DESC_new MARITAL_STATUS_CODE HOUSEHOLD_SIZE_DESC  \\\n",
       "0        65+          35-49K             Married                   2   \n",
       "1      45-54          50-74K             Married                   2   \n",
       "2      25-34          25-34K              Single                   3   \n",
       "3      25-34          75-99K              Single                   4   \n",
       "4      45-54          50-74K             Unknown                   1   \n",
       "..       ...             ...                 ...                 ...   \n",
       "796    35-44          50-74K              Single                   2   \n",
       "797    45-54          75-99K             Married                   3   \n",
       "798    45-54          35-49K              Single                   1   \n",
       "799    25-34          50-74K              Single                   2   \n",
       "800    25-34       Under 15K              Single                   3   \n",
       "\n",
       "     household_key  \n",
       "0                1  \n",
       "1                7  \n",
       "2                8  \n",
       "3               13  \n",
       "4               16  \n",
       "..             ...  \n",
       "796           2494  \n",
       "797           2496  \n",
       "798           2497  \n",
       "799           2498  \n",
       "800           2499  \n",
       "\n",
       "[801 rows x 5 columns]"
      ]
     },
     "execution_count": 12,
     "metadata": {},
     "output_type": "execute_result"
    }
   ],
   "source": [
    "df"
   ]
  },
  {
   "cell_type": "code",
   "execution_count": 20,
   "id": "c6ef929f",
   "metadata": {},
   "outputs": [],
   "source": [
    "df.columns = ['age','income','marital_status','household_size','household_key']"
   ]
  },
  {
   "cell_type": "code",
   "execution_count": 21,
   "id": "b862bf8b",
   "metadata": {},
   "outputs": [
    {
     "data": {
      "text/html": [
       "<div>\n",
       "<style scoped>\n",
       "    .dataframe tbody tr th:only-of-type {\n",
       "        vertical-align: middle;\n",
       "    }\n",
       "\n",
       "    .dataframe tbody tr th {\n",
       "        vertical-align: top;\n",
       "    }\n",
       "\n",
       "    .dataframe thead th {\n",
       "        text-align: right;\n",
       "    }\n",
       "</style>\n",
       "<table border=\"1\" class=\"dataframe\">\n",
       "  <thead>\n",
       "    <tr style=\"text-align: right;\">\n",
       "      <th></th>\n",
       "      <th>age</th>\n",
       "      <th>income</th>\n",
       "      <th>marital_status</th>\n",
       "      <th>household_size</th>\n",
       "      <th>household_key</th>\n",
       "    </tr>\n",
       "  </thead>\n",
       "  <tbody>\n",
       "    <tr>\n",
       "      <th>0</th>\n",
       "      <td>65+</td>\n",
       "      <td>35-49K</td>\n",
       "      <td>Married</td>\n",
       "      <td>2</td>\n",
       "      <td>1</td>\n",
       "    </tr>\n",
       "    <tr>\n",
       "      <th>1</th>\n",
       "      <td>45-54</td>\n",
       "      <td>50-74K</td>\n",
       "      <td>Married</td>\n",
       "      <td>2</td>\n",
       "      <td>7</td>\n",
       "    </tr>\n",
       "    <tr>\n",
       "      <th>2</th>\n",
       "      <td>25-34</td>\n",
       "      <td>25-34K</td>\n",
       "      <td>Single</td>\n",
       "      <td>3</td>\n",
       "      <td>8</td>\n",
       "    </tr>\n",
       "    <tr>\n",
       "      <th>3</th>\n",
       "      <td>25-34</td>\n",
       "      <td>75-99K</td>\n",
       "      <td>Single</td>\n",
       "      <td>4</td>\n",
       "      <td>13</td>\n",
       "    </tr>\n",
       "    <tr>\n",
       "      <th>4</th>\n",
       "      <td>45-54</td>\n",
       "      <td>50-74K</td>\n",
       "      <td>Unknown</td>\n",
       "      <td>1</td>\n",
       "      <td>16</td>\n",
       "    </tr>\n",
       "    <tr>\n",
       "      <th>...</th>\n",
       "      <td>...</td>\n",
       "      <td>...</td>\n",
       "      <td>...</td>\n",
       "      <td>...</td>\n",
       "      <td>...</td>\n",
       "    </tr>\n",
       "    <tr>\n",
       "      <th>796</th>\n",
       "      <td>35-44</td>\n",
       "      <td>50-74K</td>\n",
       "      <td>Single</td>\n",
       "      <td>2</td>\n",
       "      <td>2494</td>\n",
       "    </tr>\n",
       "    <tr>\n",
       "      <th>797</th>\n",
       "      <td>45-54</td>\n",
       "      <td>75-99K</td>\n",
       "      <td>Married</td>\n",
       "      <td>3</td>\n",
       "      <td>2496</td>\n",
       "    </tr>\n",
       "    <tr>\n",
       "      <th>798</th>\n",
       "      <td>45-54</td>\n",
       "      <td>35-49K</td>\n",
       "      <td>Single</td>\n",
       "      <td>1</td>\n",
       "      <td>2497</td>\n",
       "    </tr>\n",
       "    <tr>\n",
       "      <th>799</th>\n",
       "      <td>25-34</td>\n",
       "      <td>50-74K</td>\n",
       "      <td>Single</td>\n",
       "      <td>2</td>\n",
       "      <td>2498</td>\n",
       "    </tr>\n",
       "    <tr>\n",
       "      <th>800</th>\n",
       "      <td>25-34</td>\n",
       "      <td>Under 15K</td>\n",
       "      <td>Single</td>\n",
       "      <td>3</td>\n",
       "      <td>2499</td>\n",
       "    </tr>\n",
       "  </tbody>\n",
       "</table>\n",
       "<p>801 rows × 5 columns</p>\n",
       "</div>"
      ],
      "text/plain": [
       "       age     income marital_status household_size  household_key\n",
       "0      65+     35-49K        Married              2              1\n",
       "1    45-54     50-74K        Married              2              7\n",
       "2    25-34     25-34K         Single              3              8\n",
       "3    25-34     75-99K         Single              4             13\n",
       "4    45-54     50-74K        Unknown              1             16\n",
       "..     ...        ...            ...            ...            ...\n",
       "796  35-44     50-74K         Single              2           2494\n",
       "797  45-54     75-99K        Married              3           2496\n",
       "798  45-54     35-49K         Single              1           2497\n",
       "799  25-34     50-74K         Single              2           2498\n",
       "800  25-34  Under 15K         Single              3           2499\n",
       "\n",
       "[801 rows x 5 columns]"
      ]
     },
     "execution_count": 21,
     "metadata": {},
     "output_type": "execute_result"
    }
   ],
   "source": [
    "df"
   ]
  },
  {
   "cell_type": "code",
   "execution_count": 24,
   "id": "0e4978df",
   "metadata": {},
   "outputs": [
    {
     "name": "stdout",
     "output_type": "stream",
     "text": [
      "45-54    288\n",
      "35-44    194\n",
      "25-34    142\n",
      "65+       72\n",
      "55-64     59\n",
      "19-24     46\n",
      "Name: age, dtype: int64\n",
      "\n",
      "50-74K       192\n",
      "35-49K       172\n",
      "100k+        129\n",
      "75-99K        96\n",
      "25-34K        77\n",
      "15-24K        74\n",
      "Under 15K     61\n",
      "Name: income, dtype: int64\n",
      "\n",
      "Single     344\n",
      "Married    340\n",
      "Unknown    117\n",
      "Name: marital_status, dtype: int64\n",
      "\n",
      "2     318\n",
      "1     255\n",
      "3     109\n",
      "5+     66\n",
      "4      53\n",
      "Name: household_size, dtype: int64\n",
      "\n"
     ]
    },
    {
     "data": {
      "image/png": "[encoded data removed]",
      "text/plain": [
       "<Figure size 576x576 with 1 Axes>"
      ]
     },
     "metadata": {
      "needs_background": "light"
     },
     "output_type": "display_data"
    },
    {
     "data": {
      "image/png": "[encoded data removed]",
      "text/plain": [
       "<Figure size 576x576 with 1 Axes>"
      ]
     },
     "metadata": {
      "needs_background": "light"
     },
     "output_type": "display_data"
    },
    {
     "data": {
      "image/png": "[encoded data removed]",
      "text/plain": [
       "<Figure size 576x576 with 1 Axes>"
      ]
     },
     "metadata": {
      "needs_background": "light"
     },
     "output_type": "display_data"
    },
    {
     "data": {
      "image/png": "[encoded data removed]",
      "text/plain": [
       "<Figure size 576x576 with 1 Axes>"
      ]
     },
     "metadata": {
      "needs_background": "light"
     },
     "output_type": "display_data"
    }
   ],
   "source": [
    "for i in ['age','income','marital_status','household_size']:\n",
    "    a = df[i].value_counts()\n",
    "    print(a)\n",
    "    print()\n",
    "    plt.figure(figsize=(8,8))\n",
    "    sns.barplot(x = a.index,y = a)\n",
    "    plt.xticks(rotation= 45)\n",
    "plt.show()"
   ]
  },
  {
   "cell_type": "code",
   "execution_count": 6,
   "id": "d630e4df",
   "metadata": {},
   "outputs": [],
   "source": [
    "df.to_csv('hh_demographic_version1.csv', index=False)"
   ]
  },
  {
   "cell_type": "code",
   "execution_count": 3,
   "id": "9f0a1f66",
   "metadata": {},
   "outputs": [],
   "source": [
    "df = pd.read_csv('hh_demographic_version1.csv')"
   ]
  },
  {
   "cell_type": "code",
   "execution_count": 4,
   "id": "60c2dc83",
   "metadata": {},
   "outputs": [
    {
     "data": {
      "text/html": [
       "<div>\n",
       "<style scoped>\n",
       "    .dataframe tbody tr th:only-of-type {\n",
       "        vertical-align: middle;\n",
       "    }\n",
       "\n",
       "    .dataframe tbody tr th {\n",
       "        vertical-align: top;\n",
       "    }\n",
       "\n",
       "    .dataframe thead th {\n",
       "        text-align: right;\n",
       "    }\n",
       "</style>\n",
       "<table border=\"1\" class=\"dataframe\">\n",
       "  <thead>\n",
       "    <tr style=\"text-align: right;\">\n",
       "      <th></th>\n",
       "      <th>age</th>\n",
       "      <th>income</th>\n",
       "      <th>marital_status</th>\n",
       "      <th>household_size</th>\n",
       "      <th>household_key</th>\n",
       "    </tr>\n",
       "  </thead>\n",
       "  <tbody>\n",
       "    <tr>\n",
       "      <th>0</th>\n",
       "      <td>65+</td>\n",
       "      <td>35-49K</td>\n",
       "      <td>Married</td>\n",
       "      <td>2</td>\n",
       "      <td>1</td>\n",
       "    </tr>\n",
       "    <tr>\n",
       "      <th>1</th>\n",
       "      <td>45-54</td>\n",
       "      <td>50-74K</td>\n",
       "      <td>Married</td>\n",
       "      <td>2</td>\n",
       "      <td>7</td>\n",
       "    </tr>\n",
       "    <tr>\n",
       "      <th>2</th>\n",
       "      <td>25-34</td>\n",
       "      <td>25-34K</td>\n",
       "      <td>Single</td>\n",
       "      <td>3</td>\n",
       "      <td>8</td>\n",
       "    </tr>\n",
       "    <tr>\n",
       "      <th>3</th>\n",
       "      <td>25-34</td>\n",
       "      <td>75-99K</td>\n",
       "      <td>Single</td>\n",
       "      <td>4</td>\n",
       "      <td>13</td>\n",
       "    </tr>\n",
       "    <tr>\n",
       "      <th>4</th>\n",
       "      <td>45-54</td>\n",
       "      <td>50-74K</td>\n",
       "      <td>Unknown</td>\n",
       "      <td>1</td>\n",
       "      <td>16</td>\n",
       "    </tr>\n",
       "    <tr>\n",
       "      <th>...</th>\n",
       "      <td>...</td>\n",
       "      <td>...</td>\n",
       "      <td>...</td>\n",
       "      <td>...</td>\n",
       "      <td>...</td>\n",
       "    </tr>\n",
       "    <tr>\n",
       "      <th>796</th>\n",
       "      <td>35-44</td>\n",
       "      <td>50-74K</td>\n",
       "      <td>Single</td>\n",
       "      <td>2</td>\n",
       "      <td>2494</td>\n",
       "    </tr>\n",
       "    <tr>\n",
       "      <th>797</th>\n",
       "      <td>45-54</td>\n",
       "      <td>75-99K</td>\n",
       "      <td>Married</td>\n",
       "      <td>3</td>\n",
       "      <td>2496</td>\n",
       "    </tr>\n",
       "    <tr>\n",
       "      <th>798</th>\n",
       "      <td>45-54</td>\n",
       "      <td>35-49K</td>\n",
       "      <td>Single</td>\n",
       "      <td>1</td>\n",
       "      <td>2497</td>\n",
       "    </tr>\n",
       "    <tr>\n",
       "      <th>799</th>\n",
       "      <td>25-34</td>\n",
       "      <td>50-74K</td>\n",
       "      <td>Single</td>\n",
       "      <td>2</td>\n",
       "      <td>2498</td>\n",
       "    </tr>\n",
       "    <tr>\n",
       "      <th>800</th>\n",
       "      <td>25-34</td>\n",
       "      <td>Under 15K</td>\n",
       "      <td>Single</td>\n",
       "      <td>3</td>\n",
       "      <td>2499</td>\n",
       "    </tr>\n",
       "  </tbody>\n",
       "</table>\n",
       "<p>801 rows × 5 columns</p>\n",
       "</div>"
      ],
      "text/plain": [
       "       age     income marital_status household_size  household_key\n",
       "0      65+     35-49K        Married              2              1\n",
       "1    45-54     50-74K        Married              2              7\n",
       "2    25-34     25-34K         Single              3              8\n",
       "3    25-34     75-99K         Single              4             13\n",
       "4    45-54     50-74K        Unknown              1             16\n",
       "..     ...        ...            ...            ...            ...\n",
       "796  35-44     50-74K         Single              2           2494\n",
       "797  45-54     75-99K        Married              3           2496\n",
       "798  45-54     35-49K         Single              1           2497\n",
       "799  25-34     50-74K         Single              2           2498\n",
       "800  25-34  Under 15K         Single              3           2499\n",
       "\n",
       "[801 rows x 5 columns]"
      ]
     },
     "execution_count": 4,
     "metadata": {},
     "output_type": "execute_result"
    }
   ],
   "source": [
    "df"
   ]
  },
  {
   "cell_type": "code",
   "execution_count": 12,
   "id": "554b2280",
   "metadata": {},
   "outputs": [
    {
     "data": {
      "text/html": [
       "<div>\n",
       "<style scoped>\n",
       "    .dataframe tbody tr th:only-of-type {\n",
       "        vertical-align: middle;\n",
       "    }\n",
       "\n",
       "    .dataframe tbody tr th {\n",
       "        vertical-align: top;\n",
       "    }\n",
       "\n",
       "    .dataframe thead th {\n",
       "        text-align: right;\n",
       "    }\n",
       "</style>\n",
       "<table border=\"1\" class=\"dataframe\">\n",
       "  <thead>\n",
       "    <tr style=\"text-align: right;\">\n",
       "      <th></th>\n",
       "      <th>age</th>\n",
       "      <th>income</th>\n",
       "      <th>marital_status</th>\n",
       "      <th>household_size</th>\n",
       "      <th>household_key</th>\n",
       "    </tr>\n",
       "  </thead>\n",
       "  <tbody>\n",
       "  </tbody>\n",
       "</table>\n",
       "</div>"
      ],
      "text/plain": [
       "Empty DataFrame\n",
       "Columns: [age, income, marital_status, household_size, household_key]\n",
       "Index: []"
      ]
     },
     "execution_count": 12,
     "metadata": {},
     "output_type": "execute_result"
    }
   ],
   "source": [
    "df.query('household_key == 2375')"
   ]
  },
  {
   "cell_type": "code",
   "execution_count": null,
   "id": "1db5d652",
   "metadata": {},
   "outputs": [],
   "source": [
    "42289906117"
   ]
  }
 ],
 "metadata": {
  "kernelspec": {
   "display_name": "Python 3",
   "language": "python",
   "name": "python3"
  },
  "language_info": {
   "codemirror_mode": {
    "name": "ipython",
    "version": 3
   },
   "file_extension": ".py",
   "mimetype": "text/x-python",
   "name": "python",
   "nbconvert_exporter": "python",
   "pygments_lexer": "ipython3",
   "version": "3.6.13"
  }
 },
 "nbformat": 4,
 "nbformat_minor": 5
}
