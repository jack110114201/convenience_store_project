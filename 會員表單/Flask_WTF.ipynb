{
 "cells": [
  {
   "cell_type": "code",
   "execution_count": null,
   "id": "19a5bc36",
   "metadata": {},
   "outputs": [
    {
     "name": "stdout",
     "output_type": "stream",
     "text": [
      " * Serving Flask app '__main__' (lazy loading)\n",
      " * Environment: production\n",
      "\u001b[31m   WARNING: This is a development server. Do not use it in a production deployment.\u001b[0m\n",
      "\u001b[2m   Use a production WSGI server instead.\u001b[0m\n",
      " * Debug mode: off\n"
     ]
    },
    {
     "name": "stderr",
     "output_type": "stream",
     "text": [
      " * Running on http://127.0.0.1:5000/ (Press CTRL+C to quit)\n",
      "127.0.0.1 - - [16/Jul/2021 14:36:38] \"GET / HTTP/1.1\" 404 -\n",
      "127.0.0.1 - - [16/Jul/2021 14:36:38] \"GET /favicon.ico HTTP/1.1\" 404 -\n",
      "127.0.0.1 - - [16/Jul/2021 14:36:50] \"GET /user HTTP/1.1\" 200 -\n",
      "127.0.0.1 - - [16/Jul/2021 14:36:50] \"GET /user HTTP/1.1\" 200 -\n"
     ]
    }
   ],
   "source": [
    "from flask import Flask, render_template\n",
    "#  引入form類別\n",
    "from view_form import UserForm\n",
    "\n",
    "app = Flask(__name__)\n",
    "\n",
    "@app.route('/user', methods=['GET', 'POST'])\n",
    "def user():\n",
    "    form = UserForm()\n",
    "    #  flask_wtf類中提供判斷是否表單提交過來的method，不需要自行利用request.method來做判斷\n",
    "    if form.validate_on_submit():\n",
    "        return 'Success Submit'\n",
    "    #  如果不是提交過來的表單，就是GET，這時候就回傳user.html網頁\n",
    "    return render_template('user.html', form=form)\n",
    "\n",
    "if __name__ == '__main__':\n",
    "    app.config['SECRET_KEY']='your key'\n",
    "    app.run()"
   ]
  },
  {
   "cell_type": "code",
   "execution_count": null,
   "id": "607cc25d",
   "metadata": {},
   "outputs": [],
   "source": []
  }
 ],
 "metadata": {
  "kernelspec": {
   "display_name": "Python 3",
   "language": "python",
   "name": "python3"
  },
  "language_info": {
   "codemirror_mode": {
    "name": "ipython",
    "version": 3
   },
   "file_extension": ".py",
   "mimetype": "text/x-python",
   "name": "python",
   "nbconvert_exporter": "python",
   "pygments_lexer": "ipython3",
   "version": "3.6.13"
  }
 },
 "nbformat": 4,
 "nbformat_minor": 5
}
