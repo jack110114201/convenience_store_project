{
 "cells": [
  {
   "cell_type": "code",
   "execution_count": null,
   "id": "19a5bc36",
   "metadata": {},
   "outputs": [
    {
     "name": "stdout",
     "output_type": "stream",
     "text": [
      " * Serving Flask app '__main__' (lazy loading)\n",
      " * Environment: production\n",
      "\u001b[31m   WARNING: This is a development server. Do not use it in a production deployment.\u001b[0m\n",
      "\u001b[2m   Use a production WSGI server instead.\u001b[0m\n",
      " * Debug mode: off\n"
     ]
    },
    {
     "name": "stderr",
     "output_type": "stream",
     "text": [
      " * Running on http://127.0.0.1:5000/ (Press CTRL+C to quit)\n",
      "127.0.0.1 - - [16/Jul/2021 14:38:00] \"GET / HTTP/1.1\" 404 -\n",
      "127.0.0.1 - - [16/Jul/2021 14:38:04] \"GET /user HTTP/1.1\" 200 -\n"
     ]
    }
   ],
   "source": [
    "from flask import Flask, render_template\n",
    "#  引入form類別\n",
    "from view_form import UserForm\n",
    "from flask_bootstrap import Bootstrap\n",
    "\n",
    "app = Flask(__name__)\n",
    "Bootstrap(app)\n",
    "\n",
    "\n",
    "@app.route('/user', methods=['GET', 'POST'])\n",
    "def user():\n",
    "    form = UserForm()\n",
    "    #  flask_wtf類中提供判斷是否表單提交過來的method，不需要自行利用request.method來做判斷\n",
    "    if form.validate_on_submit():\n",
    "        user = request.form[\"username\"]\n",
    "        email = request.form[\"email\"]\n",
    "        sex = request.form[\"sex\"]\n",
    "        print(user,email,sex)\n",
    "        return 'Success Submit'\n",
    "    #  如果不是提交過來的表單，就是GET，這時候就回傳user.html網頁\n",
    "    return render_template('user1.html', form=form)\n",
    "\n",
    "\n",
    "if __name__ == '__main__':\n",
    "    app.config['SECRET_KEY']='your key'\n",
    "    app.run()"
   ]
  },
  {
   "cell_type": "code",
   "execution_count": 5,
   "id": "c84446b3",
   "metadata": {},
   "outputs": [
    {
     "ename": "ModuleNotFoundError",
     "evalue": "No module named 'flask_bootstrap'",
     "output_type": "error",
     "traceback": [
      "\u001b[1;31m---------------------------------------------------------------------------\u001b[0m",
      "\u001b[1;31mModuleNotFoundError\u001b[0m                       Traceback (most recent call last)",
      "\u001b[1;32m<ipython-input-5-6e6606411ade>\u001b[0m in \u001b[0;36m<module>\u001b[1;34m\u001b[0m\n\u001b[0;32m     10\u001b[0m \u001b[1;31m#  引入form類別\u001b[0m\u001b[1;33m\u001b[0m\u001b[1;33m\u001b[0m\u001b[1;33m\u001b[0m\u001b[0m\n\u001b[0;32m     11\u001b[0m \u001b[1;32mfrom\u001b[0m \u001b[0mview_form\u001b[0m \u001b[1;32mimport\u001b[0m \u001b[0mUserForm\u001b[0m\u001b[1;33m\u001b[0m\u001b[1;33m\u001b[0m\u001b[0m\n\u001b[1;32m---> 12\u001b[1;33m \u001b[1;32mfrom\u001b[0m \u001b[0mflask_bootstrap\u001b[0m \u001b[1;32mimport\u001b[0m \u001b[0mBootstrap\u001b[0m\u001b[1;33m\u001b[0m\u001b[1;33m\u001b[0m\u001b[0m\n\u001b[0m\u001b[0;32m     13\u001b[0m \u001b[1;33m\u001b[0m\u001b[0m\n\u001b[0;32m     14\u001b[0m \u001b[0mapp\u001b[0m \u001b[1;33m=\u001b[0m \u001b[0mFlask\u001b[0m\u001b[1;33m(\u001b[0m\u001b[0m__name__\u001b[0m\u001b[1;33m)\u001b[0m\u001b[1;33m\u001b[0m\u001b[1;33m\u001b[0m\u001b[0m\n",
      "\u001b[1;31mModuleNotFoundError\u001b[0m: No module named 'flask_bootstrap'"
     ]
    }
   ],
   "source": [
    "# 載入需要的模組\n",
    "from __future__ import unicode_literals\n",
    "import os\n",
    "from flask import Flask, request, abort\n",
    "from linebot import LineBotApi, WebhookHandler\n",
    "from linebot.exceptions import InvalidSignatureError\n",
    "from linebot.models import MessageEvent, TextMessage, TextSendMessage\n",
    "import random\n",
    "from flask import Flask, render_template\n",
    "#  引入form類別\n",
    "from view_form import UserForm\n",
    "from flask_bootstrap import Bootstrap\n",
    "\n",
    "app = Flask(__name__)\n",
    "Bootstrap(app)\n",
    "\n",
    "@app.route('/user', methods=['GET', 'POST'])\n",
    "def user():\n",
    "    form = UserForm()\n",
    "    #  flask_wtf類中提供判斷是否表單提交過來的method，不需要自行利用request.method來做判斷\n",
    "    if form.validate_on_submit():\n",
    "        user = request.form[\"username\"]\n",
    "        email = request.form[\"email\"]\n",
    "        sex = request.form[\"sex\"]\n",
    "        print(user,email,sex)\n",
    "        return 'Success Submit'\n",
    "    #  如果不是提交過來的表單，就是GET，這時候就回傳user.html網頁\n",
    "    return render_template('user1.html', form=form)\n",
    "\n",
    "\n",
    "# LINE 聊天機器人的基本資料\n",
    "line_bot_api = LineBotApi('vDIMOGL+ELqAUW/mA2YZLQUsHvrNWptGQkAxrw3Qe7Wm7aGJuSdXaJQ+kZvgczZXFQgcrn0GqUiuUGUXE8gKoc9V1R9XbZlVMzJUqSKXu0UHrJwucSw2KbmIiSAfujpmtahceYNTuHwWmwGY8Wb3swdB04t89/1O/w1cDnyilFU=') #聊天機器人的 Chennel access token\n",
    "handler = WebhookHandler('923eb6ad003feb917fa8f3735de19df6') #聊天機器人的 Channel secret\n",
    "\n",
    "# 接收 LINE 的資訊\n",
    "@app.route(\"/callback\", methods=['POST'])\n",
    "def callback():\n",
    "    signature = request.headers['X-Line-Signature']\n",
    "\n",
    "    body = request.get_data(as_text=True)\n",
    "    app.logger.info(\"Request body: \" + body)\n",
    "\n",
    "    try:\n",
    "        handler.handle(body, signature)\n",
    "    except InvalidSignatureError:\n",
    "        abort(400)\n",
    "\n",
    "    return 'OK'\n",
    "\n",
    "@handler.add(MessageEvent, message=TextMessage)\n",
    "def create_member(event):\n",
    "    # get user id when reply\n",
    "    user_id = event.source.user_id\n",
    "    print(\"user_id =\", user_id)\n",
    "\n",
    "    if event.source.user_id != \"Udeadbeefdeadbeefdeadbeefdeadbeef\":\n",
    "        if event.message.text == \"建立會員資料\":    \n",
    "            line_bot_api.reply_message(\n",
    "            event.reply_token,\n",
    "            TextSendMessage(text=\"http://127.0.0.1:5000/user\")\n",
    "        )\n",
    "\n",
    "a = (user,email,sex,user_id)\n",
    "print(a)\n",
    "\n",
    "if __name__ == '__main__':\n",
    "    app.config['SECRET_KEY']='your key'\n",
    "    app.run()"
   ]
  }
 ],
 "metadata": {
  "kernelspec": {
   "display_name": "Python 3",
   "language": "python",
   "name": "python3"
  },
  "language_info": {
   "codemirror_mode": {
    "name": "ipython",
    "version": 3
   },
   "file_extension": ".py",
   "mimetype": "text/x-python",
   "name": "python",
   "nbconvert_exporter": "python",
   "pygments_lexer": "ipython3",
   "version": "3.6.13"
  }
 },
 "nbformat": 4,
 "nbformat_minor": 5
}
