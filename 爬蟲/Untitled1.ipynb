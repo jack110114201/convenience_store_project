{
 "cells": [
  {
   "cell_type": "code",
   "execution_count": 1,
   "id": "4d0c7b57",
   "metadata": {},
   "outputs": [],
   "source": [
    "import pandas as pd"
   ]
  },
  {
   "cell_type": "code",
   "execution_count": 2,
   "id": "3e4c5f5a",
   "metadata": {},
   "outputs": [],
   "source": [
    "df = pd.read_csv('df4_no_name.csv')"
   ]
  },
  {
   "cell_type": "code",
   "execution_count": 3,
   "id": "ab586a17",
   "metadata": {},
   "outputs": [
    {
     "name": "stdout",
     "output_type": "stream",
     "text": [
      "<class 'pandas.core.frame.DataFrame'>\n",
      "RangeIndex: 292188 entries, 0 to 292187\n",
      "Data columns (total 10 columns):\n",
      " #   Column                    Non-Null Count   Dtype  \n",
      "---  ------                    --------------   -----  \n",
      " 0   Unnamed: 0                292188 non-null  int64  \n",
      " 1   commodity_SUB_COMMODITY   292188 non-null  object \n",
      " 2   commodity_name            292188 non-null  object \n",
      " 3   commodity_images          292188 non-null  object \n",
      " 4   commodity_price           292188 non-null  object \n",
      " 5   commodity_url             292188 non-null  object \n",
      " 6   commodity_description     292188 non-null  object \n",
      " 7   commodity_total_reviews   292184 non-null  float64\n",
      " 8   commodity_descriptio      292188 non-null  object \n",
      " 9   commodity_average_rating  292184 non-null  float64\n",
      "dtypes: float64(2), int64(1), object(7)\n",
      "memory usage: 22.3+ MB\n"
     ]
    }
   ],
   "source": [
    "df.info()"
   ]
  },
  {
   "cell_type": "code",
   "execution_count": null,
   "id": "c0e1fba5",
   "metadata": {},
   "outputs": [],
   "source": []
  }
 ],
 "metadata": {
  "kernelspec": {
   "display_name": "Python 3",
   "language": "python",
   "name": "python3"
  },
  "language_info": {
   "codemirror_mode": {
    "name": "ipython",
    "version": 3
   },
   "file_extension": ".py",
   "mimetype": "text/x-python",
   "name": "python",
   "nbconvert_exporter": "python",
   "pygments_lexer": "ipython3",
   "version": "3.9.4"
  }
 },
 "nbformat": 4,
 "nbformat_minor": 5
}
