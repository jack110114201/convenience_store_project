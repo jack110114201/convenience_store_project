{
 "cells": [
  {
   "cell_type": "code",
   "execution_count": 1,
   "id": "a9a3a8f1",
   "metadata": {},
   "outputs": [],
   "source": [
    "import pandas as pd"
   ]
  },
  {
   "cell_type": "code",
   "execution_count": 2,
   "id": "6258bafb",
   "metadata": {},
   "outputs": [
    {
     "name": "stderr",
     "output_type": "stream",
     "text": [
      "C:\\Users\\Tibame_25\\.conda\\envs\\kaggle_data\\lib\\site-packages\\IPython\\core\\interactiveshell.py:3072: DtypeWarning: Columns (3) have mixed types.Specify dtype option on import or set low_memory=False.\n",
      "  interactivity=interactivity, compiler=compiler, result=result)\n"
     ]
    }
   ],
   "source": [
    "df = pd.read_csv('target.com_big_object_version5.csv')"
   ]
  },
  {
   "cell_type": "code",
   "execution_count": 6,
   "id": "c8bad555",
   "metadata": {},
   "outputs": [],
   "source": [
    "df = df.drop('commodity_highlights',axis=1)"
   ]
  },
  {
   "cell_type": "code",
   "execution_count": 7,
   "id": "81372a47",
   "metadata": {},
   "outputs": [],
   "source": [
    "df.to_csv('target.com_big_object_version6.csv',index=False)"
   ]
  },
  {
   "cell_type": "code",
   "execution_count": 8,
   "id": "24856597",
   "metadata": {},
   "outputs": [
    {
     "name": "stderr",
     "output_type": "stream",
     "text": [
      "C:\\Users\\Tibame_25\\.conda\\envs\\kaggle_data\\lib\\site-packages\\IPython\\core\\interactiveshell.py:3072: DtypeWarning: Columns (3) have mixed types.Specify dtype option on import or set low_memory=False.\n",
      "  interactivity=interactivity, compiler=compiler, result=result)\n"
     ]
    }
   ],
   "source": [
    "df = pd.read_csv('target.com_big_object_version6.csv')"
   ]
  },
  {
   "cell_type": "code",
   "execution_count": 10,
   "id": "832fe7ff",
   "metadata": {},
   "outputs": [
    {
     "data": {
      "text/plain": [
       "commodity_SUB_COMMODITY     0\n",
       "commodity_name              0\n",
       "commodity_images            0\n",
       "commodity_price             0\n",
       "commodity_url               0\n",
       "commodity_description       0\n",
       "commodity_total_reviews     0\n",
       "commodity_descriptio        0\n",
       "commodity_average_rating    0\n",
       "dtype: int64"
      ]
     },
     "execution_count": 10,
     "metadata": {},
     "output_type": "execute_result"
    }
   ],
   "source": [
    "df.isnull().sum()"
   ]
  }
 ],
 "metadata": {
  "kernelspec": {
   "display_name": "Python 3",
   "language": "python",
   "name": "python3"
  },
  "language_info": {
   "codemirror_mode": {
    "name": "ipython",
    "version": 3
   },
   "file_extension": ".py",
   "mimetype": "text/x-python",
   "name": "python",
   "nbconvert_exporter": "python",
   "pygments_lexer": "ipython3",
   "version": "3.6.13"
  }
 },
 "nbformat": 4,
 "nbformat_minor": 5
}
